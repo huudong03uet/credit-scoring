{
 "cells": [
  {
   "cell_type": "code",
   "execution_count": 1,
   "metadata": {
    "execution": {
     "iopub.execute_input": "2025-06-14T20:35:04.108279Z",
     "iopub.status.busy": "2025-06-14T20:35:04.107820Z",
     "iopub.status.idle": "2025-06-14T20:36:35.405281Z",
     "shell.execute_reply": "2025-06-14T20:36:35.403853Z",
     "shell.execute_reply.started": "2025-06-14T20:35:04.108253Z"
    },
    "trusted": true
   },
   "outputs": [
    {
     "name": "stdout",
     "output_type": "stream",
     "text": [
      "\u001b[2K   \u001b[90m━━━━━━━━━━━━━━━━━━━━━━━━━━━━━━━━━━━━━━━━\u001b[0m \u001b[32m363.4/363.4 MB\u001b[0m \u001b[31m4.7 MB/s\u001b[0m eta \u001b[36m0:00:00\u001b[0m0:00:01\u001b[0m00:01\u001b[0m\n",
      "\u001b[2K   \u001b[90m━━━━━━━━━━━━━━━━━━━━━━━━━━━━━━━━━━━━━━━━\u001b[0m \u001b[32m664.8/664.8 MB\u001b[0m \u001b[31m2.4 MB/s\u001b[0m eta \u001b[36m0:00:00\u001b[0m0:00:01\u001b[0m00:01\u001b[0m\n",
      "\u001b[2K   \u001b[90m━━━━━━━━━━━━━━━━━━━━━━━━━━━━━━━━━━━━━━━━\u001b[0m \u001b[32m211.5/211.5 MB\u001b[0m \u001b[31m2.9 MB/s\u001b[0m eta \u001b[36m0:00:00\u001b[0m0:00:01\u001b[0m00:01\u001b[0m\n",
      "\u001b[2K   \u001b[90m━━━━━━━━━━━━━━━━━━━━━━━━━━━━━━━━━━━━━━━━\u001b[0m \u001b[32m56.3/56.3 MB\u001b[0m \u001b[31m4.7 MB/s\u001b[0m eta \u001b[36m0:00:00\u001b[0m0:00:01\u001b[0m00:01\u001b[0m\n",
      "\u001b[2K   \u001b[90m━━━━━━━━━━━━━━━━━━━━━━━━━━━━━━━━━━━━━━━━\u001b[0m \u001b[32m127.9/127.9 MB\u001b[0m \u001b[31m13.6 MB/s\u001b[0m eta \u001b[36m0:00:00\u001b[0m:00:01\u001b[0m00:01\u001b[0m\n",
      "\u001b[2K   \u001b[90m━━━━━━━━━━━━━━━━━━━━━━━━━━━━━━━━━━━━━━━━\u001b[0m \u001b[32m207.5/207.5 MB\u001b[0m \u001b[31m8.1 MB/s\u001b[0m eta \u001b[36m0:00:00\u001b[0m0:00:01\u001b[0m00:01\u001b[0m\n",
      "\u001b[2K   \u001b[90m━━━━━━━━━━━━━━━━━━━━━━━━━━━━━━━━━━━━━━━━\u001b[0m \u001b[32m21.1/21.1 MB\u001b[0m \u001b[31m22.8 MB/s\u001b[0m eta \u001b[36m0:00:00\u001b[0m00:01\u001b[0m00:01\u001b[0m\n",
      "\u001b[2K     \u001b[90m━━━━━━━━━━━━━━━━━━━━━━━━━━━━━━━━━━━━━━━━\u001b[0m \u001b[32m10.2/10.2 MB\u001b[0m \u001b[31m87.0 MB/s\u001b[0m eta \u001b[36m0:00:00\u001b[0m:00:01\u001b[0m0:01\u001b[0m\n",
      "\u001b[2K     \u001b[90m━━━━━━━━━━━━━━━━━━━━━━━━━━━━━━━━━━━━━━━━\u001b[0m \u001b[32m4.9/4.9 MB\u001b[0m \u001b[31m47.7 MB/s\u001b[0m eta \u001b[36m0:00:00\u001b[0ma \u001b[36m0:00:01\u001b[0m\n",
      "\u001b[2K     \u001b[90m━━━━━━━━━━━━━━━━━━━━━━━━━━━━━━━━━━━━━━━━\u001b[0m \u001b[32m63.1/63.1 kB\u001b[0m \u001b[31m2.9 MB/s\u001b[0m eta \u001b[36m0:00:00\u001b[0m\n",
      "\u001b[2K   \u001b[90m━━━━━━━━━━━━━━━━━━━━━━━━━━━━━━━━━━━━━━━━\u001b[0m \u001b[32m1.1/1.1 MB\u001b[0m \u001b[31m26.8 MB/s\u001b[0m eta \u001b[36m0:00:00\u001b[0m00:01\u001b[0m\n",
      "\u001b[?25h"
     ]
    }
   ],
   "source": [
    "# Cài đặt PyTorch Geometric và dependencies cho Kaggle (CUDA 11.8)\n",
    "!pip install -q torch torchvision torchaudio\n",
    "!pip install -q torch-scatter -f https://data.pyg.org/whl/torch-2.0.0+cu118.html\n",
    "!pip install -q torch-sparse -f https://data.pyg.org/whl/torch-2.0.0+cu118.html\n",
    "!pip install -q torch-geometric\n",
    "!pip install -q scikit-learn pandas matplotlib seaborn\n"
   ]
  },
  {
   "cell_type": "code",
   "execution_count": 2,
   "metadata": {
    "execution": {
     "iopub.execute_input": "2025-06-14T20:36:35.408249Z",
     "iopub.status.busy": "2025-06-14T20:36:35.407992Z",
     "iopub.status.idle": "2025-06-14T20:36:38.353415Z",
     "shell.execute_reply": "2025-06-14T20:36:38.352515Z",
     "shell.execute_reply.started": "2025-06-14T20:36:35.408226Z"
    },
    "trusted": true
   },
   "outputs": [
    {
     "name": "stdout",
     "output_type": "stream",
     "text": [
      "Requirement already satisfied: hdbscan in /usr/local/lib/python3.11/dist-packages (0.8.40)\n",
      "Requirement already satisfied: numpy<3,>=1.20 in /usr/local/lib/python3.11/dist-packages (from hdbscan) (1.26.4)\n",
      "Requirement already satisfied: scipy>=1.0 in /usr/local/lib/python3.11/dist-packages (from hdbscan) (1.15.2)\n",
      "Requirement already satisfied: scikit-learn>=0.20 in /usr/local/lib/python3.11/dist-packages (from hdbscan) (1.2.2)\n",
      "Requirement already satisfied: joblib>=1.0 in /usr/local/lib/python3.11/dist-packages (from hdbscan) (1.5.0)\n",
      "Requirement already satisfied: mkl_fft in /usr/local/lib/python3.11/dist-packages (from numpy<3,>=1.20->hdbscan) (1.3.8)\n",
      "Requirement already satisfied: mkl_random in /usr/local/lib/python3.11/dist-packages (from numpy<3,>=1.20->hdbscan) (1.2.4)\n",
      "Requirement already satisfied: mkl_umath in /usr/local/lib/python3.11/dist-packages (from numpy<3,>=1.20->hdbscan) (0.1.1)\n",
      "Requirement already satisfied: mkl in /usr/local/lib/python3.11/dist-packages (from numpy<3,>=1.20->hdbscan) (2025.1.0)\n",
      "Requirement already satisfied: tbb4py in /usr/local/lib/python3.11/dist-packages (from numpy<3,>=1.20->hdbscan) (2022.1.0)\n",
      "Requirement already satisfied: mkl-service in /usr/local/lib/python3.11/dist-packages (from numpy<3,>=1.20->hdbscan) (2.4.1)\n",
      "Requirement already satisfied: threadpoolctl>=2.0.0 in /usr/local/lib/python3.11/dist-packages (from scikit-learn>=0.20->hdbscan) (3.6.0)\n",
      "Requirement already satisfied: intel-openmp<2026,>=2024 in /usr/local/lib/python3.11/dist-packages (from mkl->numpy<3,>=1.20->hdbscan) (2024.2.0)\n",
      "Requirement already satisfied: tbb==2022.* in /usr/local/lib/python3.11/dist-packages (from mkl->numpy<3,>=1.20->hdbscan) (2022.1.0)\n",
      "Requirement already satisfied: tcmlib==1.* in /usr/local/lib/python3.11/dist-packages (from tbb==2022.*->mkl->numpy<3,>=1.20->hdbscan) (1.3.0)\n",
      "Requirement already satisfied: intel-cmplr-lib-rt in /usr/local/lib/python3.11/dist-packages (from mkl_umath->numpy<3,>=1.20->hdbscan) (2024.2.0)\n",
      "Requirement already satisfied: intel-cmplr-lib-ur==2024.2.0 in /usr/local/lib/python3.11/dist-packages (from intel-openmp<2026,>=2024->mkl->numpy<3,>=1.20->hdbscan) (2024.2.0)\n"
     ]
    }
   ],
   "source": [
    "!pip install hdbscan\n"
   ]
  },
  {
   "cell_type": "code",
   "execution_count": 29,
   "metadata": {
    "_cell_guid": "b1076dfc-b9ad-4769-8c92-a6c4dae69d19",
    "_uuid": "8f2839f25d086af736a60e9eeb907d3b93b6e0e5",
    "execution": {
     "iopub.execute_input": "2025-06-14T20:43:27.503828Z",
     "iopub.status.busy": "2025-06-14T20:43:27.503479Z",
     "iopub.status.idle": "2025-06-14T20:43:27.514959Z",
     "shell.execute_reply": "2025-06-14T20:43:27.514312Z",
     "shell.execute_reply.started": "2025-06-14T20:43:27.503804Z"
    },
    "trusted": true
   },
   "outputs": [],
   "source": [
    "# --- 1. Import\n",
    "import pandas as pd\n",
    "import numpy as np\n",
    "import networkx as nx\n",
    "from sklearn.preprocessing import StandardScaler\n",
    "from keras.models import Model\n",
    "from keras.layers import Input, Dense\n",
    "from keras.optimizers import Adam\n",
    "import torch\n",
    "from torch_geometric.data import Data\n",
    "from torch_geometric.utils import from_networkx\n",
    "\n",
    "def load_data():\n",
    "    # --- Load edge weights and wallet features ---\n",
    "    edges = pd.read_csv(\"/kaggle/input/baai-kg-1/liquidated_edges.csv\")\n",
    "    features_df = pd.read_csv(\"/kaggle/input/baai-kg-1/wallet_features.csv\").set_index(\"id\")\n",
    "\n",
    "    # Build wallet index and align features\n",
    "    # Tập wallet ở features và tập wallet có trong edges\n",
    "    wallets_in_edges = pd.Index(pd.concat([edges['source'], edges['target']]).unique())\n",
    "    wallets_in_feats = features_df.index\n",
    "    \n",
    "    # 1) Lấy union (hợp nhất) 2 tập\n",
    "    all_wallets = wallets_in_feats.union(wallets_in_edges)\n",
    "    \n",
    "    # 2) Reindex theo tập union, fill NaN = 0\n",
    "    features_df = features_df.reindex(all_wallets).fillna(0)\n",
    "    \n",
    "    # Normalize features\n",
    "    scaler = StandardScaler()\n",
    "    features = scaler.fit_transform(features_df.values)\n",
    "    x = torch.tensor(features, dtype=torch.float)\n",
    "\n",
    "    # Create edge_index and edge_weight\n",
    "    idx_map = {w:i for i,w in enumerate(wallets)}\n",
    "    src = edges['source'].map(idx_map).values\n",
    "    dst = edges['target'].map(idx_map).values\n",
    "    edge_index = torch.tensor([src, dst], dtype=torch.long)\n",
    "    # Make undirected\n",
    "    edge_index = torch.cat([edge_index, edge_index.flip(0)], dim=1)\n",
    "    w = edges['weight'].values\n",
    "    edge_weight = torch.tensor(list(w) + list(w), dtype=torch.float)\n",
    "\n",
    "    data = Data(x=x, edge_index=edge_index, edge_weight=edge_weight)\n",
    "    return data, features_df, edges\n",
    "class GCNEncoder(torch.nn.Module):\n",
    "    def __init__(self, in_channels, out_channels):\n",
    "        super().__init__()\n",
    "        self.conv1 = GCNConv(in_channels, 128)\n",
    "        self.conv2 = GCNConv(128, out_channels)\n",
    "\n",
    "    def forward(self, x, edge_index, edge_weight=None):\n",
    "        x = self.conv1(x, edge_index, edge_weight=edge_weight).relu()\n",
    "        return self.conv2(x, edge_index, edge_weight=edge_weight)\n",
    "\n",
    "def train_gae(data, in_channels, hidden_channels, num_epochs=100, lr=0.01):\n",
    "    # Initialize model and optimizer\n",
    "    encoder = GCNEncoder(in_channels, hidden_channels)\n",
    "    model = GAE(encoder)\n",
    "    optimizer = torch.optim.Adam(model.parameters(), lr=lr)\n",
    "\n",
    "    model.train()\n",
    "    for epoch in range(1, num_epochs + 1):\n",
    "        optimizer.zero_grad()\n",
    "        # Encode with edge_weight support\n",
    "        z = model.encode(data.x, data.edge_index, data.edge_weight)\n",
    "        # Use standard reconstruction loss (PyG recon_loss does not accept edge_weight)\n",
    "        loss = model.recon_loss(z, data.edge_index)\n",
    "        loss.backward()\n",
    "        optimizer.step()\n",
    "        if epoch % 10 == 0 or epoch == 1:\n",
    "            print(f\"Epoch {epoch:03d}, Loss: {loss.item():.4f}\")\n",
    "    return model\n"
   ]
  },
  {
   "cell_type": "code",
   "execution_count": 32,
   "metadata": {
    "execution": {
     "iopub.execute_input": "2025-06-14T20:43:52.445154Z",
     "iopub.status.busy": "2025-06-14T20:43:52.444873Z",
     "iopub.status.idle": "2025-06-14T20:43:52.463661Z",
     "shell.execute_reply": "2025-06-14T20:43:52.463180Z",
     "shell.execute_reply.started": "2025-06-14T20:43:52.445137Z"
    },
    "trusted": true
   },
   "outputs": [],
   "source": [
    "data, wallet_features_df, edges = load_data()"
   ]
  },
  {
   "cell_type": "code",
   "execution_count": 33,
   "metadata": {
    "execution": {
     "iopub.execute_input": "2025-06-14T20:43:52.912834Z",
     "iopub.status.busy": "2025-06-14T20:43:52.912215Z",
     "iopub.status.idle": "2025-06-14T20:43:52.916923Z",
     "shell.execute_reply": "2025-06-14T20:43:52.916366Z",
     "shell.execute_reply.started": "2025-06-14T20:43:52.912813Z"
    },
    "trusted": true
   },
   "outputs": [
    {
     "data": {
      "text/plain": [
       "998"
      ]
     },
     "execution_count": 33,
     "metadata": {},
     "output_type": "execute_result"
    }
   ],
   "source": [
    "len(wallet_features_df)"
   ]
  },
  {
   "cell_type": "code",
   "execution_count": 34,
   "metadata": {
    "execution": {
     "iopub.execute_input": "2025-06-14T20:43:53.633795Z",
     "iopub.status.busy": "2025-06-14T20:43:53.633481Z",
     "iopub.status.idle": "2025-06-14T20:44:06.692606Z",
     "shell.execute_reply": "2025-06-14T20:44:06.691814Z",
     "shell.execute_reply.started": "2025-06-14T20:43:53.633752Z"
    },
    "trusted": true
   },
   "outputs": [
    {
     "name": "stdout",
     "output_type": "stream",
     "text": [
      "Epoch 001, Loss: 1.5646\n",
      "Epoch 010, Loss: 1.2871\n",
      "Epoch 020, Loss: 1.2290\n",
      "Epoch 030, Loss: 1.1336\n",
      "Epoch 040, Loss: 1.0231\n",
      "Epoch 050, Loss: 1.0296\n",
      "Epoch 060, Loss: 0.9996\n",
      "Epoch 070, Loss: 0.9900\n",
      "Epoch 080, Loss: 0.9705\n",
      "Epoch 090, Loss: 0.9711\n",
      "Epoch 100, Loss: 0.9925\n",
      "Epoch 110, Loss: 0.9702\n",
      "Epoch 120, Loss: 0.9875\n",
      "Epoch 130, Loss: 0.9821\n",
      "Epoch 140, Loss: 0.9536\n",
      "Epoch 150, Loss: 0.9655\n",
      "Epoch 160, Loss: 0.9552\n",
      "Epoch 170, Loss: 0.9429\n",
      "Epoch 180, Loss: 0.9488\n",
      "Epoch 190, Loss: 0.9565\n",
      "Epoch 200, Loss: 0.9452\n",
      "Epoch 210, Loss: 0.9723\n",
      "Epoch 220, Loss: 0.9691\n",
      "Epoch 230, Loss: 0.9399\n",
      "Epoch 240, Loss: 0.9504\n",
      "Epoch 250, Loss: 0.9610\n",
      "Epoch 260, Loss: 0.9290\n",
      "Epoch 270, Loss: 0.9213\n",
      "Epoch 280, Loss: 0.9633\n",
      "Epoch 290, Loss: 0.9238\n",
      "Epoch 300, Loss: 0.9266\n",
      "Epoch 310, Loss: 0.9250\n",
      "Epoch 320, Loss: 0.9440\n",
      "Epoch 330, Loss: 0.9230\n",
      "Epoch 340, Loss: 0.9363\n",
      "Epoch 350, Loss: 0.9208\n",
      "Epoch 360, Loss: 0.9341\n",
      "Epoch 370, Loss: 0.9513\n",
      "Epoch 380, Loss: 0.9245\n",
      "Epoch 390, Loss: 0.9453\n",
      "Epoch 400, Loss: 0.9422\n",
      "Epoch 410, Loss: 0.9117\n",
      "Epoch 420, Loss: 0.9171\n",
      "Epoch 430, Loss: 0.9325\n",
      "Epoch 440, Loss: 0.9345\n",
      "Epoch 450, Loss: 0.9179\n",
      "Epoch 460, Loss: 0.9405\n",
      "Epoch 470, Loss: 0.9044\n",
      "Epoch 480, Loss: 0.9326\n",
      "Epoch 490, Loss: 0.9321\n",
      "Epoch 500, Loss: 0.9492\n",
      "Epoch 510, Loss: 0.9412\n",
      "Epoch 520, Loss: 0.9232\n",
      "Epoch 530, Loss: 0.9219\n",
      "Epoch 540, Loss: 0.9147\n",
      "Epoch 550, Loss: 0.9123\n",
      "Epoch 560, Loss: 0.9229\n",
      "Epoch 570, Loss: 0.9395\n",
      "Epoch 580, Loss: 0.9118\n",
      "Epoch 590, Loss: 0.9271\n",
      "Epoch 600, Loss: 0.8912\n",
      "Epoch 610, Loss: 0.9266\n",
      "Epoch 620, Loss: 0.9050\n",
      "Epoch 630, Loss: 0.9112\n",
      "Epoch 640, Loss: 0.9000\n",
      "Epoch 650, Loss: 0.9204\n",
      "Epoch 660, Loss: 0.9718\n",
      "Epoch 670, Loss: 0.9448\n",
      "Epoch 680, Loss: 0.9013\n",
      "Epoch 690, Loss: 0.9255\n",
      "Epoch 700, Loss: 0.9158\n",
      "Epoch 710, Loss: 0.9273\n",
      "Epoch 720, Loss: 0.9320\n",
      "Epoch 730, Loss: 0.9154\n",
      "Epoch 740, Loss: 0.9131\n",
      "Epoch 750, Loss: 0.9275\n",
      "Epoch 760, Loss: 0.9096\n",
      "Epoch 770, Loss: 0.9039\n",
      "Epoch 780, Loss: 0.9083\n",
      "Epoch 790, Loss: 0.8901\n",
      "Epoch 800, Loss: 0.8940\n",
      "Epoch 810, Loss: 0.9062\n",
      "Epoch 820, Loss: 0.8889\n",
      "Epoch 830, Loss: 0.9239\n",
      "Epoch 840, Loss: 0.9034\n",
      "Epoch 850, Loss: 0.9264\n",
      "Epoch 860, Loss: 0.9005\n",
      "Epoch 870, Loss: 0.9084\n",
      "Epoch 880, Loss: 0.9023\n",
      "Epoch 890, Loss: 0.9034\n",
      "Epoch 900, Loss: 0.9079\n",
      "Epoch 910, Loss: 0.9098\n",
      "Epoch 920, Loss: 0.9253\n",
      "Epoch 930, Loss: 0.9080\n",
      "Epoch 940, Loss: 0.8857\n",
      "Epoch 950, Loss: 0.9023\n",
      "Epoch 960, Loss: 0.9064\n",
      "Epoch 970, Loss: 0.8949\n",
      "Epoch 980, Loss: 0.9161\n",
      "Epoch 990, Loss: 0.8905\n",
      "Epoch 1000, Loss: 0.8988\n",
      "Epoch 1010, Loss: 0.8880\n",
      "Epoch 1020, Loss: 0.8964\n",
      "Epoch 1030, Loss: 0.9054\n",
      "Epoch 1040, Loss: 0.9230\n",
      "Epoch 1050, Loss: 0.9218\n",
      "Epoch 1060, Loss: 0.8739\n",
      "Epoch 1070, Loss: 0.9048\n",
      "Epoch 1080, Loss: 0.8822\n",
      "Epoch 1090, Loss: 0.9002\n",
      "Epoch 1100, Loss: 0.8949\n",
      "Epoch 1110, Loss: 0.8822\n",
      "Epoch 1120, Loss: 0.9023\n",
      "Epoch 1130, Loss: 0.8777\n",
      "Epoch 1140, Loss: 0.9173\n",
      "Epoch 1150, Loss: 0.8800\n",
      "Epoch 1160, Loss: 0.8909\n",
      "Epoch 1170, Loss: 0.8809\n",
      "Epoch 1180, Loss: 0.8959\n",
      "Epoch 1190, Loss: 0.9066\n",
      "Epoch 1200, Loss: 0.9298\n",
      "Epoch 1210, Loss: 0.8819\n",
      "Epoch 1220, Loss: 0.8971\n",
      "Epoch 1230, Loss: 0.8955\n",
      "Epoch 1240, Loss: 0.8954\n",
      "Epoch 1250, Loss: 0.8908\n",
      "Epoch 1260, Loss: 0.8753\n",
      "Epoch 1270, Loss: 0.9125\n",
      "Epoch 1280, Loss: 0.8791\n",
      "Epoch 1290, Loss: 0.8681\n",
      "Epoch 1300, Loss: 0.8727\n",
      "Epoch 1310, Loss: 0.8918\n",
      "Epoch 1320, Loss: 0.8796\n",
      "Epoch 1330, Loss: 0.8961\n",
      "Epoch 1340, Loss: 0.8930\n",
      "Epoch 1350, Loss: 0.8997\n",
      "Epoch 1360, Loss: 0.8900\n",
      "Epoch 1370, Loss: 0.8769\n",
      "Epoch 1380, Loss: 0.9004\n",
      "Epoch 1390, Loss: 0.8846\n",
      "Epoch 1400, Loss: 0.8798\n",
      "Epoch 1410, Loss: 0.8756\n",
      "Epoch 1420, Loss: 0.8838\n",
      "Epoch 1430, Loss: 0.8601\n",
      "Epoch 1440, Loss: 0.9004\n",
      "Epoch 1450, Loss: 0.8892\n",
      "Epoch 1460, Loss: 0.9006\n",
      "Epoch 1470, Loss: 0.8618\n",
      "Epoch 1480, Loss: 0.9024\n",
      "Epoch 1490, Loss: 0.8799\n",
      "Epoch 1500, Loss: 0.8794\n",
      "Epoch 1510, Loss: 0.8690\n",
      "Epoch 1520, Loss: 0.8921\n",
      "Epoch 1530, Loss: 0.8850\n",
      "Epoch 1540, Loss: 0.8943\n",
      "Epoch 1550, Loss: 0.8768\n",
      "Epoch 1560, Loss: 0.8710\n",
      "Epoch 1570, Loss: 0.8703\n",
      "Epoch 1580, Loss: 0.9054\n",
      "Epoch 1590, Loss: 0.8822\n",
      "Epoch 1600, Loss: 0.8569\n",
      "Epoch 1610, Loss: 0.8997\n",
      "Epoch 1620, Loss: 0.8743\n",
      "Epoch 1630, Loss: 0.8602\n",
      "Epoch 1640, Loss: 0.8771\n",
      "Epoch 1650, Loss: 0.8924\n",
      "Epoch 1660, Loss: 0.8933\n",
      "Epoch 1670, Loss: 0.8948\n",
      "Epoch 1680, Loss: 0.8870\n",
      "Epoch 1690, Loss: 0.8850\n",
      "Epoch 1700, Loss: 0.8798\n",
      "Epoch 1710, Loss: 0.9051\n",
      "Epoch 1720, Loss: 0.8726\n",
      "Epoch 1730, Loss: 0.8826\n",
      "Epoch 1740, Loss: 0.8923\n",
      "Epoch 1750, Loss: 0.8765\n",
      "Epoch 1760, Loss: 0.8718\n",
      "Epoch 1770, Loss: 0.8784\n",
      "Epoch 1780, Loss: 0.8822\n",
      "Epoch 1790, Loss: 0.8694\n",
      "Epoch 1800, Loss: 0.8940\n",
      "Epoch 1810, Loss: 0.8969\n",
      "Epoch 1820, Loss: 0.8822\n",
      "Epoch 1830, Loss: 0.8936\n",
      "Epoch 1840, Loss: 0.8751\n",
      "Epoch 1850, Loss: 0.8900\n",
      "Epoch 1860, Loss: 0.9030\n",
      "Epoch 1870, Loss: 0.9065\n",
      "Epoch 1880, Loss: 0.8624\n",
      "Epoch 1890, Loss: 0.8841\n",
      "Epoch 1900, Loss: 0.8715\n",
      "Epoch 1910, Loss: 0.8862\n",
      "Epoch 1920, Loss: 0.8821\n",
      "Epoch 1930, Loss: 0.8834\n",
      "Epoch 1940, Loss: 0.8538\n",
      "Epoch 1950, Loss: 0.8630\n",
      "Epoch 1960, Loss: 0.8726\n",
      "Epoch 1970, Loss: 0.8896\n",
      "Epoch 1980, Loss: 0.8695\n",
      "Epoch 1990, Loss: 0.8804\n",
      "Epoch 2000, Loss: 0.8731\n",
      "Training complete. Node embeddings shape: torch.Size([998, 16])\n"
     ]
    }
   ],
   "source": [
    "import pandas as pd\n",
    "import torch\n",
    "from torch_geometric.data import Data\n",
    "from sklearn.preprocessing import StandardScaler\n",
    "from torch_geometric.nn import GCNConv, GAE\n",
    "\n",
    "in_channels = data.x.shape[1]\n",
    "hidden_channels = 16\n",
    "    # Train the GAE\n",
    "trained_model = train_gae(data, in_channels, hidden_channels, num_epochs=2000, lr=0.005)\n",
    "\n",
    "    # Get embeddings\n",
    "trained_model.eval()\n",
    "with torch.no_grad():\n",
    "        z = trained_model.encode(data.x, data.edge_index, data.edge_weight)\n",
    "    # z is a [num_nodes x hidden_channels] tensor of node embeddings\n",
    "print(\"Training complete. Node embeddings shape:\", z.shape)\n"
   ]
  },
  {
   "cell_type": "code",
   "execution_count": 35,
   "metadata": {
    "execution": {
     "iopub.execute_input": "2025-06-14T20:44:09.502346Z",
     "iopub.status.busy": "2025-06-14T20:44:09.501735Z",
     "iopub.status.idle": "2025-06-14T20:44:09.509285Z",
     "shell.execute_reply": "2025-06-14T20:44:09.508679Z",
     "shell.execute_reply.started": "2025-06-14T20:44:09.502323Z"
    },
    "trusted": true
   },
   "outputs": [],
   "source": [
    "trained_model.eval()\n",
    "with torch.no_grad():\n",
    "    z = trained_model.encode(data.x, data.edge_index).cpu().numpy()  # Chuyển về CP\n"
   ]
  },
  {
   "cell_type": "code",
   "execution_count": 36,
   "metadata": {
    "execution": {
     "iopub.execute_input": "2025-06-14T20:44:10.739124Z",
     "iopub.status.busy": "2025-06-14T20:44:10.738595Z",
     "iopub.status.idle": "2025-06-14T20:44:10.744327Z",
     "shell.execute_reply": "2025-06-14T20:44:10.743540Z",
     "shell.execute_reply.started": "2025-06-14T20:44:10.739105Z"
    },
    "trusted": true
   },
   "outputs": [],
   "source": [
    "def compute_graph_features(edges, wallets):\n",
    "    # Build weighted graph\n",
    "    G = nx.from_pandas_edgelist(edges, 'source', 'target', edge_attr='weight', create_using=nx.DiGraph())\n",
    "    # Compute features\n",
    "    pr = nx.pagerank(G, weight='weight')\n",
    "    deg = dict(G.degree(weight='weight'))\n",
    "    indeg = dict(G.in_degree(weight='weight'))\n",
    "    outdeg = dict(G.out_degree(weight='weight'))\n",
    "    btwn = nx.betweenness_centrality(G, weight='weight')\n",
    "    # Assemble DataFrame aligned with wallets\n",
    "    df = pd.DataFrame(index=wallets)\n",
    "    df['pagerank']    = pd.Series(pr)\n",
    "    df['degree']      = pd.Series(deg)\n",
    "    df['in_degree']   = pd.Series(indeg)\n",
    "    df['out_degree']  = pd.Series(outdeg)\n",
    "    df['betweenness'] = pd.Series(btwn)\n",
    "    return df.fillna(0)"
   ]
  },
  {
   "cell_type": "code",
   "execution_count": 37,
   "metadata": {
    "execution": {
     "iopub.execute_input": "2025-06-14T20:44:15.241170Z",
     "iopub.status.busy": "2025-06-14T20:44:15.240628Z",
     "iopub.status.idle": "2025-06-14T20:44:15.245178Z",
     "shell.execute_reply": "2025-06-14T20:44:15.244380Z",
     "shell.execute_reply.started": "2025-06-14T20:44:15.241149Z"
    },
    "trusted": true
   },
   "outputs": [],
   "source": [
    "import pandas as pd\n",
    "import numpy as np\n",
    "import torch\n",
    "import networkx as nx\n",
    "from torch_geometric.data import Data\n",
    "from sklearn.impute import SimpleImputer\n",
    "from torch_geometric.nn import GCNConv, GAE"
   ]
  },
  {
   "cell_type": "code",
   "execution_count": 38,
   "metadata": {
    "execution": {
     "iopub.execute_input": "2025-06-14T20:44:17.232645Z",
     "iopub.status.busy": "2025-06-14T20:44:17.232298Z",
     "iopub.status.idle": "2025-06-14T20:44:17.281389Z",
     "shell.execute_reply": "2025-06-14T20:44:17.280920Z",
     "shell.execute_reply.started": "2025-06-14T20:44:17.232622Z"
    },
    "trusted": true
   },
   "outputs": [],
   "source": [
    "# Compute and normalize graph-level features\n",
    "wallets = wallet_features_df.index\n",
    "graph_feats = compute_graph_features(edges, wallets)\n",
    "gf_scaled = StandardScaler().fit_transform(graph_feats.values)\n",
    "imputer = SimpleImputer(strategy='mean')\n",
    "gf_imputed = imputer.fit_transform(gf_scaled)\n",
    "\n",
    "# Combine embeddings with graph-level features\n",
    "combined_embedding = np.hstack([z, gf_imputed])"
   ]
  },
  {
   "cell_type": "code",
   "execution_count": 39,
   "metadata": {
    "execution": {
     "iopub.execute_input": "2025-06-14T20:44:18.417019Z",
     "iopub.status.busy": "2025-06-14T20:44:18.416414Z",
     "iopub.status.idle": "2025-06-14T20:44:18.422066Z",
     "shell.execute_reply": "2025-06-14T20:44:18.421478Z",
     "shell.execute_reply.started": "2025-06-14T20:44:18.416996Z"
    },
    "trusted": true
   },
   "outputs": [
    {
     "data": {
      "text/plain": [
       "array([[-0.28814811,  0.61278194,  0.27269772, ..., -0.11623211,\n",
       "        -0.13695297,  0.        ],\n",
       "       [-0.0841982 ,  0.8229928 ,  0.52201611, ..., -0.14989067,\n",
       "        -0.13695297,  0.        ],\n",
       "       [-0.89681548, -0.01648673, -0.26566327, ..., -0.14350008,\n",
       "        -0.13695297,  0.        ],\n",
       "       ...,\n",
       "       [ 0.14177357, -0.12313685,  0.11220323, ..., -0.14989067,\n",
       "        -0.12025456,  0.        ],\n",
       "       [ 0.19741842,  0.01571828, -0.18754534, ..., -0.14989067,\n",
       "        -0.13695297,  0.        ],\n",
       "       [ 0.01135841, -0.22573441, -0.24356557, ...,  3.02006438,\n",
       "        -0.13695297,  0.        ]])"
      ]
     },
     "execution_count": 39,
     "metadata": {},
     "output_type": "execute_result"
    }
   ],
   "source": [
    "combined_embedding"
   ]
  },
  {
   "cell_type": "code",
   "execution_count": 42,
   "metadata": {
    "execution": {
     "iopub.execute_input": "2025-06-14T20:45:22.851627Z",
     "iopub.status.busy": "2025-06-14T20:45:22.850913Z",
     "iopub.status.idle": "2025-06-14T20:45:31.687331Z",
     "shell.execute_reply": "2025-06-14T20:45:31.686652Z",
     "shell.execute_reply.started": "2025-06-14T20:45:22.851604Z"
    },
    "trusted": true
   },
   "outputs": [
    {
     "name": "stderr",
     "output_type": "stream",
     "text": [
      "/usr/local/lib/python3.11/dist-packages/sklearn/manifold/_spectral_embedding.py:274: UserWarning: Graph is not fully connected, spectral embedding may not work as expected.\n",
      "  warnings.warn(\n",
      "/usr/local/lib/python3.11/dist-packages/sklearn/manifold/_spectral_embedding.py:274: UserWarning: Graph is not fully connected, spectral embedding may not work as expected.\n",
      "  warnings.warn(\n"
     ]
    },
    {
     "name": "stdout",
     "output_type": "stream",
     "text": [
      "k=2, silhouette=-0.0928\n",
      "k=3, silhouette=-0.0950\n"
     ]
    },
    {
     "name": "stderr",
     "output_type": "stream",
     "text": [
      "/usr/local/lib/python3.11/dist-packages/sklearn/manifold/_spectral_embedding.py:274: UserWarning: Graph is not fully connected, spectral embedding may not work as expected.\n",
      "  warnings.warn(\n",
      "/usr/local/lib/python3.11/dist-packages/sklearn/manifold/_spectral_embedding.py:274: UserWarning: Graph is not fully connected, spectral embedding may not work as expected.\n",
      "  warnings.warn(\n"
     ]
    },
    {
     "name": "stdout",
     "output_type": "stream",
     "text": [
      "k=4, silhouette=-0.0192\n",
      "k=5, silhouette=-0.0021\n"
     ]
    },
    {
     "name": "stderr",
     "output_type": "stream",
     "text": [
      "/usr/local/lib/python3.11/dist-packages/sklearn/manifold/_spectral_embedding.py:274: UserWarning: Graph is not fully connected, spectral embedding may not work as expected.\n",
      "  warnings.warn(\n",
      "/usr/local/lib/python3.11/dist-packages/sklearn/manifold/_spectral_embedding.py:274: UserWarning: Graph is not fully connected, spectral embedding may not work as expected.\n",
      "  warnings.warn(\n"
     ]
    },
    {
     "name": "stdout",
     "output_type": "stream",
     "text": [
      "k=6, silhouette=0.0564\n",
      "k=7, silhouette=-0.0148\n"
     ]
    },
    {
     "name": "stderr",
     "output_type": "stream",
     "text": [
      "/usr/local/lib/python3.11/dist-packages/sklearn/manifold/_spectral_embedding.py:274: UserWarning: Graph is not fully connected, spectral embedding may not work as expected.\n",
      "  warnings.warn(\n",
      "/usr/local/lib/python3.11/dist-packages/sklearn/manifold/_spectral_embedding.py:274: UserWarning: Graph is not fully connected, spectral embedding may not work as expected.\n",
      "  warnings.warn(\n"
     ]
    },
    {
     "name": "stdout",
     "output_type": "stream",
     "text": [
      "k=8, silhouette=-0.0251\n",
      "k=9, silhouette=-0.0210\n"
     ]
    },
    {
     "name": "stderr",
     "output_type": "stream",
     "text": [
      "/usr/local/lib/python3.11/dist-packages/sklearn/manifold/_spectral_embedding.py:274: UserWarning: Graph is not fully connected, spectral embedding may not work as expected.\n",
      "  warnings.warn(\n",
      "/usr/local/lib/python3.11/dist-packages/sklearn/manifold/_spectral_embedding.py:274: UserWarning: Graph is not fully connected, spectral embedding may not work as expected.\n",
      "  warnings.warn(\n"
     ]
    },
    {
     "name": "stdout",
     "output_type": "stream",
     "text": [
      "k=10, silhouette=0.0055\n",
      "k=11, silhouette=0.0243\n"
     ]
    },
    {
     "name": "stderr",
     "output_type": "stream",
     "text": [
      "/usr/local/lib/python3.11/dist-packages/sklearn/manifold/_spectral_embedding.py:274: UserWarning: Graph is not fully connected, spectral embedding may not work as expected.\n",
      "  warnings.warn(\n",
      "/usr/local/lib/python3.11/dist-packages/sklearn/manifold/_spectral_embedding.py:274: UserWarning: Graph is not fully connected, spectral embedding may not work as expected.\n",
      "  warnings.warn(\n"
     ]
    },
    {
     "name": "stdout",
     "output_type": "stream",
     "text": [
      "k=12, silhouette=0.0569\n",
      "k=13, silhouette=0.0514\n"
     ]
    },
    {
     "name": "stderr",
     "output_type": "stream",
     "text": [
      "/usr/local/lib/python3.11/dist-packages/sklearn/manifold/_spectral_embedding.py:274: UserWarning: Graph is not fully connected, spectral embedding may not work as expected.\n",
      "  warnings.warn(\n",
      "/usr/local/lib/python3.11/dist-packages/sklearn/manifold/_spectral_embedding.py:274: UserWarning: Graph is not fully connected, spectral embedding may not work as expected.\n",
      "  warnings.warn(\n"
     ]
    },
    {
     "name": "stdout",
     "output_type": "stream",
     "text": [
      "k=14, silhouette=0.0287\n",
      "k=15, silhouette=0.0457\n"
     ]
    },
    {
     "name": "stderr",
     "output_type": "stream",
     "text": [
      "/usr/local/lib/python3.11/dist-packages/sklearn/manifold/_spectral_embedding.py:274: UserWarning: Graph is not fully connected, spectral embedding may not work as expected.\n",
      "  warnings.warn(\n"
     ]
    },
    {
     "name": "stdout",
     "output_type": "stream",
     "text": [
      "k=16, silhouette=0.0464\n",
      "k=17, silhouette=0.0551\n"
     ]
    },
    {
     "name": "stderr",
     "output_type": "stream",
     "text": [
      "/usr/local/lib/python3.11/dist-packages/sklearn/manifold/_spectral_embedding.py:274: UserWarning: Graph is not fully connected, spectral embedding may not work as expected.\n",
      "  warnings.warn(\n",
      "/usr/local/lib/python3.11/dist-packages/sklearn/manifold/_spectral_embedding.py:274: UserWarning: Graph is not fully connected, spectral embedding may not work as expected.\n",
      "  warnings.warn(\n"
     ]
    },
    {
     "name": "stdout",
     "output_type": "stream",
     "text": [
      "k=18, silhouette=0.0684\n"
     ]
    },
    {
     "name": "stderr",
     "output_type": "stream",
     "text": [
      "/usr/local/lib/python3.11/dist-packages/sklearn/manifold/_spectral_embedding.py:274: UserWarning: Graph is not fully connected, spectral embedding may not work as expected.\n",
      "  warnings.warn(\n"
     ]
    },
    {
     "name": "stdout",
     "output_type": "stream",
     "text": [
      "k=19, silhouette=0.0762\n"
     ]
    },
    {
     "name": "stderr",
     "output_type": "stream",
     "text": [
      "/usr/local/lib/python3.11/dist-packages/sklearn/manifold/_spectral_embedding.py:274: UserWarning: Graph is not fully connected, spectral embedding may not work as expected.\n",
      "  warnings.warn(\n"
     ]
    },
    {
     "name": "stdout",
     "output_type": "stream",
     "text": [
      "k=20, silhouette=0.0875\n"
     ]
    },
    {
     "name": "stderr",
     "output_type": "stream",
     "text": [
      "/usr/local/lib/python3.11/dist-packages/sklearn/manifold/_spectral_embedding.py:274: UserWarning: Graph is not fully connected, spectral embedding may not work as expected.\n",
      "  warnings.warn(\n"
     ]
    },
    {
     "name": "stdout",
     "output_type": "stream",
     "text": [
      "k=21, silhouette=0.0971\n"
     ]
    },
    {
     "name": "stderr",
     "output_type": "stream",
     "text": [
      "/usr/local/lib/python3.11/dist-packages/sklearn/manifold/_spectral_embedding.py:274: UserWarning: Graph is not fully connected, spectral embedding may not work as expected.\n",
      "  warnings.warn(\n"
     ]
    },
    {
     "name": "stdout",
     "output_type": "stream",
     "text": [
      "k=22, silhouette=0.1032\n"
     ]
    },
    {
     "name": "stderr",
     "output_type": "stream",
     "text": [
      "/usr/local/lib/python3.11/dist-packages/sklearn/manifold/_spectral_embedding.py:274: UserWarning: Graph is not fully connected, spectral embedding may not work as expected.\n",
      "  warnings.warn(\n"
     ]
    },
    {
     "name": "stdout",
     "output_type": "stream",
     "text": [
      "k=23, silhouette=0.0933\n"
     ]
    },
    {
     "name": "stderr",
     "output_type": "stream",
     "text": [
      "/usr/local/lib/python3.11/dist-packages/sklearn/manifold/_spectral_embedding.py:274: UserWarning: Graph is not fully connected, spectral embedding may not work as expected.\n",
      "  warnings.warn(\n"
     ]
    },
    {
     "name": "stdout",
     "output_type": "stream",
     "text": [
      "k=24, silhouette=0.1150\n"
     ]
    },
    {
     "name": "stderr",
     "output_type": "stream",
     "text": [
      "/usr/local/lib/python3.11/dist-packages/sklearn/manifold/_spectral_embedding.py:274: UserWarning: Graph is not fully connected, spectral embedding may not work as expected.\n",
      "  warnings.warn(\n"
     ]
    },
    {
     "name": "stdout",
     "output_type": "stream",
     "text": [
      "k=25, silhouette=0.1195\n"
     ]
    },
    {
     "name": "stderr",
     "output_type": "stream",
     "text": [
      "/usr/local/lib/python3.11/dist-packages/sklearn/manifold/_spectral_embedding.py:274: UserWarning: Graph is not fully connected, spectral embedding may not work as expected.\n",
      "  warnings.warn(\n"
     ]
    },
    {
     "name": "stdout",
     "output_type": "stream",
     "text": [
      "k=26, silhouette=0.1286\n"
     ]
    },
    {
     "name": "stderr",
     "output_type": "stream",
     "text": [
      "/usr/local/lib/python3.11/dist-packages/sklearn/manifold/_spectral_embedding.py:274: UserWarning: Graph is not fully connected, spectral embedding may not work as expected.\n",
      "  warnings.warn(\n"
     ]
    },
    {
     "name": "stdout",
     "output_type": "stream",
     "text": [
      "k=27, silhouette=0.1341\n"
     ]
    },
    {
     "name": "stderr",
     "output_type": "stream",
     "text": [
      "/usr/local/lib/python3.11/dist-packages/sklearn/manifold/_spectral_embedding.py:274: UserWarning: Graph is not fully connected, spectral embedding may not work as expected.\n",
      "  warnings.warn(\n"
     ]
    },
    {
     "name": "stdout",
     "output_type": "stream",
     "text": [
      "k=28, silhouette=0.1405\n"
     ]
    },
    {
     "name": "stderr",
     "output_type": "stream",
     "text": [
      "/usr/local/lib/python3.11/dist-packages/sklearn/manifold/_spectral_embedding.py:274: UserWarning: Graph is not fully connected, spectral embedding may not work as expected.\n",
      "  warnings.warn(\n"
     ]
    },
    {
     "name": "stdout",
     "output_type": "stream",
     "text": [
      "k=29, silhouette=0.1322\n"
     ]
    },
    {
     "name": "stderr",
     "output_type": "stream",
     "text": [
      "/usr/local/lib/python3.11/dist-packages/sklearn/manifold/_spectral_embedding.py:274: UserWarning: Graph is not fully connected, spectral embedding may not work as expected.\n",
      "  warnings.warn(\n"
     ]
    },
    {
     "name": "stdout",
     "output_type": "stream",
     "text": [
      "k=30, silhouette=0.1354\n"
     ]
    },
    {
     "name": "stderr",
     "output_type": "stream",
     "text": [
      "/usr/local/lib/python3.11/dist-packages/sklearn/manifold/_spectral_embedding.py:274: UserWarning: Graph is not fully connected, spectral embedding may not work as expected.\n",
      "  warnings.warn(\n"
     ]
    },
    {
     "name": "stdout",
     "output_type": "stream",
     "text": [
      "k=31, silhouette=0.1307\n"
     ]
    },
    {
     "name": "stderr",
     "output_type": "stream",
     "text": [
      "/usr/local/lib/python3.11/dist-packages/sklearn/manifold/_spectral_embedding.py:274: UserWarning: Graph is not fully connected, spectral embedding may not work as expected.\n",
      "  warnings.warn(\n"
     ]
    },
    {
     "name": "stdout",
     "output_type": "stream",
     "text": [
      "k=32, silhouette=0.1234\n"
     ]
    },
    {
     "name": "stderr",
     "output_type": "stream",
     "text": [
      "/usr/local/lib/python3.11/dist-packages/sklearn/manifold/_spectral_embedding.py:274: UserWarning: Graph is not fully connected, spectral embedding may not work as expected.\n",
      "  warnings.warn(\n"
     ]
    },
    {
     "name": "stdout",
     "output_type": "stream",
     "text": [
      "k=33, silhouette=0.1244\n"
     ]
    },
    {
     "name": "stderr",
     "output_type": "stream",
     "text": [
      "/usr/local/lib/python3.11/dist-packages/sklearn/manifold/_spectral_embedding.py:274: UserWarning: Graph is not fully connected, spectral embedding may not work as expected.\n",
      "  warnings.warn(\n"
     ]
    },
    {
     "name": "stdout",
     "output_type": "stream",
     "text": [
      "k=34, silhouette=0.1193\n"
     ]
    },
    {
     "name": "stderr",
     "output_type": "stream",
     "text": [
      "/usr/local/lib/python3.11/dist-packages/sklearn/manifold/_spectral_embedding.py:274: UserWarning: Graph is not fully connected, spectral embedding may not work as expected.\n",
      "  warnings.warn(\n"
     ]
    },
    {
     "name": "stdout",
     "output_type": "stream",
     "text": [
      "k=35, silhouette=0.1199\n"
     ]
    },
    {
     "name": "stderr",
     "output_type": "stream",
     "text": [
      "/usr/local/lib/python3.11/dist-packages/sklearn/manifold/_spectral_embedding.py:274: UserWarning: Graph is not fully connected, spectral embedding may not work as expected.\n",
      "  warnings.warn(\n"
     ]
    },
    {
     "name": "stdout",
     "output_type": "stream",
     "text": [
      "k=36, silhouette=0.1241\n"
     ]
    },
    {
     "name": "stderr",
     "output_type": "stream",
     "text": [
      "/usr/local/lib/python3.11/dist-packages/sklearn/manifold/_spectral_embedding.py:274: UserWarning: Graph is not fully connected, spectral embedding may not work as expected.\n",
      "  warnings.warn(\n"
     ]
    },
    {
     "name": "stdout",
     "output_type": "stream",
     "text": [
      "k=37, silhouette=0.1221\n"
     ]
    },
    {
     "name": "stderr",
     "output_type": "stream",
     "text": [
      "/usr/local/lib/python3.11/dist-packages/sklearn/manifold/_spectral_embedding.py:274: UserWarning: Graph is not fully connected, spectral embedding may not work as expected.\n",
      "  warnings.warn(\n"
     ]
    },
    {
     "name": "stdout",
     "output_type": "stream",
     "text": [
      "k=38, silhouette=0.1129\n"
     ]
    },
    {
     "name": "stderr",
     "output_type": "stream",
     "text": [
      "/usr/local/lib/python3.11/dist-packages/sklearn/manifold/_spectral_embedding.py:274: UserWarning: Graph is not fully connected, spectral embedding may not work as expected.\n",
      "  warnings.warn(\n"
     ]
    },
    {
     "name": "stdout",
     "output_type": "stream",
     "text": [
      "k=39, silhouette=0.1139\n",
      "Best k: 28 with silhouette score 0.1405\n"
     ]
    }
   ],
   "source": [
    "from sklearn.cluster import KMeans\n",
    "from sklearn.metrics import silhouette_score\n",
    "from sklearn.decomposition import PCA\n",
    "from sklearn.cluster import KMeans, SpectralClustering\n",
    "best_k, best_score = None, -1\n",
    "for k in range(2, 40):\n",
    "        spec = SpectralClustering(n_clusters=k, affinity='nearest_neighbors', assign_labels='kmeans', random_state=42)\n",
    "        labels = spec.fit_predict(combined_embedding)\n",
    "        score = silhouette_score(combined_embedding, labels)\n",
    "        print(f\"k={k}, silhouette={score:.4f}\")\n",
    "        if score > best_score:\n",
    "            best_k, best_score = k, score\n",
    "print(f\"Best k: {best_k} with silhouette score {best_score:.4f}\")"
   ]
  },
  {
   "cell_type": "code",
   "execution_count": 43,
   "metadata": {
    "execution": {
     "iopub.execute_input": "2025-06-14T20:45:33.593781Z",
     "iopub.status.busy": "2025-06-14T20:45:33.593238Z",
     "iopub.status.idle": "2025-06-14T20:45:34.696162Z",
     "shell.execute_reply": "2025-06-14T20:45:34.695418Z",
     "shell.execute_reply.started": "2025-06-14T20:45:33.593737Z"
    },
    "trusted": true
   },
   "outputs": [
    {
     "name": "stderr",
     "output_type": "stream",
     "text": [
      "/usr/local/lib/python3.11/dist-packages/sklearn/manifold/_spectral_embedding.py:274: UserWarning: Graph is not fully connected, spectral embedding may not work as expected.\n",
      "  warnings.warn(\n"
     ]
    },
    {
     "data": {
      "image/png": "[encoded data removed]",
      "text/plain": [
       "<Figure size 1000x600 with 1 Axes>"
      ]
     },
     "metadata": {},
     "output_type": "display_data"
    }
   ],
   "source": [
    "# PCA for visualization\n",
    "from sklearn.decomposition import PCA\n",
    "from sklearn.cluster import KMeans, SpectralClustering\n",
    "import seaborn as sns\n",
    "import matplotlib.pyplot as plt\n",
    "X_pca = PCA(n_components=2).fit_transform(combined_embedding)\n",
    "\n",
    "# Spectral Clustering\n",
    "spectral = SpectralClustering(n_clusters=best_k, affinity='nearest_neighbors', assign_labels='kmeans', random_state=42)\n",
    "labels_spectral = spectral.fit_predict(combined_embedding)\n",
    "\n",
    "# Create DataFrame for visualization\n",
    "df_vis = pd.DataFrame({\n",
    "    \"PCA1\": X_pca[:, 0],\n",
    "    \"PCA2\": X_pca[:, 1],\n",
    "    \"community_spectral\": labels_spectral,\n",
    "    \"wallet\": wallets\n",
    "})\n",
    "\n",
    "# Plot results\n",
    "sns.set(style=\"whitegrid\", rc={\"figure.figsize\": (10, 6)})\n",
    "sns.scatterplot(data=df_vis, x='PCA1', y='PCA2', hue='community_spectral', palette='tab10', s=100)\n",
    "plt.title(\"GraphSAGE + Spectral Clustering\")\n",
    "plt.tight_layout()\n",
    "plt.show()"
   ]
  },
  {
   "cell_type": "code",
   "execution_count": 44,
   "metadata": {
    "execution": {
     "iopub.execute_input": "2025-06-14T20:45:45.811016Z",
     "iopub.status.busy": "2025-06-14T20:45:45.810503Z",
     "iopub.status.idle": "2025-06-14T20:45:45.815233Z",
     "shell.execute_reply": "2025-06-14T20:45:45.814604Z",
     "shell.execute_reply.started": "2025-06-14T20:45:45.810992Z"
    },
    "trusted": true
   },
   "outputs": [],
   "source": [
    "w = {\n",
    "    'num_deposit':          2,\n",
    "    'total_deposit':       10,\n",
    "    'num_borrow':          -2,\n",
    "    'total_borrow':        -8,\n",
    "    'num_repay':            2,\n",
    "    'total_repay':          8,\n",
    "    'num_withdraw':        -2,\n",
    "    'total_withdraw':      -5,\n",
    "    'num_liquidated':      -5,\n",
    "    'total_liquidated':   -15,\n",
    "    'num_liquidating':     -2,\n",
    "    'total_liquidating':  -5,\n",
    "    'num_contracts':        3,\n",
    "    'num_projects':         3,\n",
    "    'num_tweets':           1,\n",
    "    'avg_likes':           0.5,\n",
    "    'avg_retweets':        0.5,\n",
    "    'num_hashtags':        0.5,\n",
    "}\n"
   ]
  },
  {
   "cell_type": "code",
   "execution_count": 45,
   "metadata": {
    "execution": {
     "iopub.execute_input": "2025-06-14T20:45:47.036710Z",
     "iopub.status.busy": "2025-06-14T20:45:47.036019Z",
     "iopub.status.idle": "2025-06-14T20:45:47.043102Z",
     "shell.execute_reply": "2025-06-14T20:45:47.042334Z",
     "shell.execute_reply.started": "2025-06-14T20:45:47.036686Z"
    },
    "trusted": true
   },
   "outputs": [],
   "source": [
    "# Suppose df_embed.index is wallet ID and columns are [0,1,2,…,D-1]:\n",
    "df_embed = pd.DataFrame(z, index=wallets)\n",
    "df_embed[\"community\"] = labels_spectral \n",
    "df_embed = (\n",
    "    df_embed\n",
    "    .rename_axis(\"wallet\")              # make the index name explicit\n",
    "    .reset_index()                      # bring wallet ID into a column\n",
    "    .rename(columns=lambda c:          # rename every numeric col to \"embed_#\"\n",
    "        f\"embed_{c}\" if isinstance(c, int) else c\n",
    "    )\n",
    ")\n"
   ]
  },
  {
   "cell_type": "code",
   "execution_count": 57,
   "metadata": {
    "execution": {
     "iopub.execute_input": "2025-06-14T20:49:18.072997Z",
     "iopub.status.busy": "2025-06-14T20:49:18.072271Z",
     "iopub.status.idle": "2025-06-14T20:49:18.080115Z",
     "shell.execute_reply": "2025-06-14T20:49:18.079552Z",
     "shell.execute_reply.started": "2025-06-14T20:49:18.072977Z"
    },
    "trusted": true
   },
   "outputs": [],
   "source": [
    "df = (\n",
    "    df_embed\n",
    "    .set_index(\"wallet\")           # make wallet ID the index\n",
    "    .join(wallet_features_df, how=\"left\") # pull in every column from features_df by index\n",
    "    .reset_index()                 # bring wallet ID back as a column\n",
    ")"
   ]
  },
  {
   "cell_type": "code",
   "execution_count": 58,
   "metadata": {
    "execution": {
     "iopub.execute_input": "2025-06-14T20:49:30.182338Z",
     "iopub.status.busy": "2025-06-14T20:49:30.181792Z",
     "iopub.status.idle": "2025-06-14T20:49:30.193221Z",
     "shell.execute_reply": "2025-06-14T20:49:30.192521Z",
     "shell.execute_reply.started": "2025-06-14T20:49:30.182314Z"
    },
    "trusted": true
   },
   "outputs": [
    {
     "name": "stdout",
     "output_type": "stream",
     "text": [
      "                                           wallet  num_deposit  total_deposit  \\\n",
      "0  0x1_0x0000000002a70a5a249ba633db4ee5fc9f90d611            0       0.000000   \n",
      "1  0x1_0x000000fee13a103a10d593b9ae06b3e05f2e7e1c            0       0.000000   \n",
      "2  0x1_0x00000639caea2f4991b946c1f68686e4df700000            0       0.000000   \n",
      "3  0x1_0x000076a33ef6a2027f01f73f7dbb122a8f31f61d            0       0.000000   \n",
      "4  0x1_0x00809b9263aab2856bf65be3d3bc3fcb9e19c1fb            0       0.000000   \n",
      "5  0x1_0x00e36307236118b7d5ff9e1fa3a2506fd5257b8a            1       0.000000   \n",
      "6  0x1_0x00ec8cb39d12f8686f674152a8fc586e04d12f4a            1      50.028948   \n",
      "7  0x1_0x0177ffdf6b5c00ff8eab1a498ea10191ebc965db            0       0.000000   \n",
      "8  0x1_0x01cc7ba4f67e102e8f789c2859e091cfca7bde35            2     514.348500   \n",
      "9  0x1_0x01d35e1cbc52ce7599b5e3a70b6e2f595f534106            7    2636.774998   \n",
      "\n",
      "   num_borrow  total_borrow  num_repay  total_repay  num_withdraw  \\\n",
      "0           0      0.000000          0     0.000000             0   \n",
      "1           0      0.000000          0     0.000000             0   \n",
      "2           0      0.000000          0     0.000000             0   \n",
      "3           0      0.000000          0     0.000000             0   \n",
      "4          20  17436.339716          0     0.000000             0   \n",
      "5           0      0.000000          0     0.000000            19   \n",
      "6           0      0.000000          0     0.000000             1   \n",
      "7           0      0.000000          2   440.267310             0   \n",
      "8           0      0.000000          0     0.000000             0   \n",
      "9           2      0.098600          1     0.003273             0   \n",
      "\n",
      "   total_withdraw  num_liquidated  total_liquidated  num_liquidating  \\\n",
      "0        0.000000               5               0.0                0   \n",
      "1        0.000000               0               0.0                0   \n",
      "2        0.000000               2               0.0                0   \n",
      "3        0.000000               2               0.0                0   \n",
      "4        0.000000               0               0.0                0   \n",
      "5     1096.345480               0               0.0                0   \n",
      "6       50.637686               0               0.0                0   \n",
      "7        0.000000              35               0.0                0   \n",
      "8        0.000000               0               0.0                0   \n",
      "9        0.000000               0               0.0                2   \n",
      "\n",
      "   total_liquidating  num_contracts  num_projects  num_tweets  avg_likes  \\\n",
      "0                0.0              0             0           0     0.0000   \n",
      "1                0.0              0             0           0     0.0000   \n",
      "2                0.0              0             0           0     0.0000   \n",
      "3                0.0              0             0           0     0.0000   \n",
      "4                0.0              1             1        1600    29.4125   \n",
      "5                0.0              6             1         800    29.4125   \n",
      "6                0.0              1             1         160    29.4125   \n",
      "7                0.0              2             1         160    29.4125   \n",
      "8                0.0              1             1         160    29.4125   \n",
      "9                0.0              1             1         800   280.8875   \n",
      "\n",
      "   avg_retweets  num_hashtags  \n",
      "0        0.0000             0  \n",
      "1        0.0000             0  \n",
      "2        0.0000             0  \n",
      "3        0.0000             0  \n",
      "4       23.6625             0  \n",
      "5       23.6625             0  \n",
      "6       23.6625             0  \n",
      "7       23.6625             0  \n",
      "8       23.6625             0  \n",
      "9       62.2750             1  \n"
     ]
    }
   ],
   "source": [
    "print(df[['wallet'] + list(w.keys())].head(10))"
   ]
  },
  {
   "cell_type": "code",
   "execution_count": 59,
   "metadata": {
    "execution": {
     "iopub.execute_input": "2025-06-14T20:49:38.587826Z",
     "iopub.status.busy": "2025-06-14T20:49:38.587520Z",
     "iopub.status.idle": "2025-06-14T20:49:38.597579Z",
     "shell.execute_reply": "2025-06-14T20:49:38.596876Z",
     "shell.execute_reply.started": "2025-06-14T20:49:38.587803Z"
    },
    "trusted": true
   },
   "outputs": [],
   "source": [
    "# w is a dict, so w.keys() are your feature names\n",
    "features = list(w.keys())\n",
    "\n",
    "# And later when you do the dot‐product, turn w into a Series:\n",
    "w_series = pd.Series(w)\n",
    "\n",
    "feat_centroids = df.groupby(\"community\")[features].mean()\n",
    "feat_scores    = (feat_centroids * w_series).sum(axis=1)\n"
   ]
  },
  {
   "cell_type": "code",
   "execution_count": 66,
   "metadata": {
    "execution": {
     "iopub.execute_input": "2025-06-14T20:52:27.121835Z",
     "iopub.status.busy": "2025-06-14T20:52:27.121517Z",
     "iopub.status.idle": "2025-06-14T20:52:27.126384Z",
     "shell.execute_reply": "2025-06-14T20:52:27.125773Z",
     "shell.execute_reply.started": "2025-06-14T20:52:27.121813Z"
    },
    "trusted": true
   },
   "outputs": [
    {
     "name": "stdout",
     "output_type": "stream",
     "text": [
      "Community uy tín nhất: 11\n"
     ]
    }
   ],
   "source": [
    "best_comm = feat_scores.idxmax()\n",
    "print(\"Community uy tín nhất:\", best_comm)"
   ]
  },
  {
   "cell_type": "code",
   "execution_count": 67,
   "metadata": {
    "execution": {
     "iopub.execute_input": "2025-06-14T20:52:38.247207Z",
     "iopub.status.busy": "2025-06-14T20:52:38.246966Z",
     "iopub.status.idle": "2025-06-14T20:52:38.253560Z",
     "shell.execute_reply": "2025-06-14T20:52:38.252975Z",
     "shell.execute_reply.started": "2025-06-14T20:52:38.247191Z"
    },
    "trusted": true
   },
   "outputs": [],
   "source": [
    "emb_cols = [c for c in df.columns if c.startswith(\"embed_\")]\n",
    "emb_centroids = df.groupby(\"community\")[emb_cols].mean()\n",
    "centroid = emb_centroids.loc[best_comm].values  # vector tâm"
   ]
  },
  {
   "cell_type": "code",
   "execution_count": 68,
   "metadata": {
    "execution": {
     "iopub.execute_input": "2025-06-14T20:53:06.101784Z",
     "iopub.status.busy": "2025-06-14T20:53:06.101037Z",
     "iopub.status.idle": "2025-06-14T20:53:06.360598Z",
     "shell.execute_reply": "2025-06-14T20:53:06.359869Z",
     "shell.execute_reply.started": "2025-06-14T20:53:06.101737Z"
    },
    "trusted": true
   },
   "outputs": [],
   "source": [
    "# 3) Tính khoảng cách Eucldiean từ mỗi ví tới tâm\n",
    "def dist_to_centroid(row):\n",
    "    return np.linalg.norm(row[emb_cols].values - centroid)\n",
    "\n",
    "df[\"dist_to_best_comm\"] = df.apply(dist_to_centroid, axis=1)\n",
    "\n",
    "# 4) Chuyển khoảng cách thành credit score\n",
    "#    Đầu tiên chuẩn hoá dist -> [0,1], sau đó đảo chiều (càng gần => score càng cao)\n",
    "scaler = MinMaxScaler()\n",
    "df[\"dist_norm\"] = scaler.fit_transform(df[[\"dist_to_best_comm\"]])\n",
    "\n",
    "# emb_score = 1 - dist_norm  # nếu bạn chỉ dùng embedding\n",
    "# Nếu muốn blend thêm feat_score_norm:\n",
    "alpha = 0.7  # trọng số cho feature-based\n",
    "beta  = 0.3  # trọng số cho embedding-based\n",
    "df[\"composite\"] = alpha * df[\"feat_score_norm\"] + beta * (1 - df[\"dist_norm\"])\n",
    "\n",
    "# Cuối cùng map về thang 300–850\n",
    "min_score, max_score = 300, 850\n",
    "df[\"credit_score\"] = min_score + df[\"composite\"] * (max_score - min_score)"
   ]
  },
  {
   "cell_type": "code",
   "execution_count": 70,
   "metadata": {
    "execution": {
     "iopub.execute_input": "2025-06-14T20:53:28.612525Z",
     "iopub.status.busy": "2025-06-14T20:53:28.612237Z",
     "iopub.status.idle": "2025-06-14T20:53:28.635657Z",
     "shell.execute_reply": "2025-06-14T20:53:28.635093Z",
     "shell.execute_reply.started": "2025-06-14T20:53:28.612492Z"
    },
    "trusted": true
   },
   "outputs": [
    {
     "data": {
      "text/html": [
       "<div>\n",
       "<style scoped>\n",
       "    .dataframe tbody tr th:only-of-type {\n",
       "        vertical-align: middle;\n",
       "    }\n",
       "\n",
       "    .dataframe tbody tr th {\n",
       "        vertical-align: top;\n",
       "    }\n",
       "\n",
       "    .dataframe thead th {\n",
       "        text-align: right;\n",
       "    }\n",
       "</style>\n",
       "<table border=\"1\" class=\"dataframe\">\n",
       "  <thead>\n",
       "    <tr style=\"text-align: right;\">\n",
       "      <th></th>\n",
       "      <th>wallet</th>\n",
       "      <th>embed_0</th>\n",
       "      <th>embed_1</th>\n",
       "      <th>embed_2</th>\n",
       "      <th>embed_3</th>\n",
       "      <th>embed_4</th>\n",
       "      <th>embed_5</th>\n",
       "      <th>embed_6</th>\n",
       "      <th>embed_7</th>\n",
       "      <th>embed_8</th>\n",
       "      <th>...</th>\n",
       "      <th>avg_retweets</th>\n",
       "      <th>num_hashtags</th>\n",
       "      <th>emb_dist</th>\n",
       "      <th>emb_score</th>\n",
       "      <th>feat_score_norm</th>\n",
       "      <th>composite_raw</th>\n",
       "      <th>credit_score</th>\n",
       "      <th>dist_to_best_comm</th>\n",
       "      <th>dist_norm</th>\n",
       "      <th>composite</th>\n",
       "    </tr>\n",
       "  </thead>\n",
       "  <tbody>\n",
       "    <tr>\n",
       "      <th>0</th>\n",
       "      <td>0x1_0x0000000002a70a5a249ba633db4ee5fc9f90d611</td>\n",
       "      <td>-0.288148</td>\n",
       "      <td>0.612782</td>\n",
       "      <td>0.272698</td>\n",
       "      <td>0.051639</td>\n",
       "      <td>-0.242926</td>\n",
       "      <td>0.021273</td>\n",
       "      <td>0.611817</td>\n",
       "      <td>0.054437</td>\n",
       "      <td>-0.320408</td>\n",
       "      <td>...</td>\n",
       "      <td>0.0000</td>\n",
       "      <td>0</td>\n",
       "      <td>6.778320e-01</td>\n",
       "      <td>0.927423</td>\n",
       "      <td>0.703073</td>\n",
       "      <td>0.770378</td>\n",
       "      <td>684.806635</td>\n",
       "      <td>4.714176</td>\n",
       "      <td>0.308342</td>\n",
       "      <td>0.699648</td>\n",
       "    </tr>\n",
       "    <tr>\n",
       "      <th>1</th>\n",
       "      <td>0x1_0x000000fee13a103a10d593b9ae06b3e05f2e7e1c</td>\n",
       "      <td>-0.084198</td>\n",
       "      <td>0.822993</td>\n",
       "      <td>0.522016</td>\n",
       "      <td>0.066127</td>\n",
       "      <td>-0.207009</td>\n",
       "      <td>-0.089779</td>\n",
       "      <td>0.717208</td>\n",
       "      <td>0.263017</td>\n",
       "      <td>-0.488356</td>\n",
       "      <td>...</td>\n",
       "      <td>0.0000</td>\n",
       "      <td>0</td>\n",
       "      <td>1.140732e+00</td>\n",
       "      <td>0.877858</td>\n",
       "      <td>0.000000</td>\n",
       "      <td>0.263358</td>\n",
       "      <td>414.720840</td>\n",
       "      <td>4.684986</td>\n",
       "      <td>0.304722</td>\n",
       "      <td>0.208583</td>\n",
       "    </tr>\n",
       "    <tr>\n",
       "      <th>2</th>\n",
       "      <td>0x1_0x00000639caea2f4991b946c1f68686e4df700000</td>\n",
       "      <td>-0.896815</td>\n",
       "      <td>-0.016487</td>\n",
       "      <td>-0.265663</td>\n",
       "      <td>-0.298782</td>\n",
       "      <td>-0.608998</td>\n",
       "      <td>-0.605407</td>\n",
       "      <td>0.210828</td>\n",
       "      <td>-0.611799</td>\n",
       "      <td>-0.254522</td>\n",
       "      <td>...</td>\n",
       "      <td>0.0000</td>\n",
       "      <td>0</td>\n",
       "      <td>6.847834e-01</td>\n",
       "      <td>0.926678</td>\n",
       "      <td>0.717509</td>\n",
       "      <td>0.780260</td>\n",
       "      <td>687.198940</td>\n",
       "      <td>4.868913</td>\n",
       "      <td>0.327528</td>\n",
       "      <td>0.703998</td>\n",
       "    </tr>\n",
       "    <tr>\n",
       "      <th>3</th>\n",
       "      <td>0x1_0x000076a33ef6a2027f01f73f7dbb122a8f31f61d</td>\n",
       "      <td>-0.322370</td>\n",
       "      <td>0.589526</td>\n",
       "      <td>0.097580</td>\n",
       "      <td>0.185119</td>\n",
       "      <td>-0.070400</td>\n",
       "      <td>-0.161263</td>\n",
       "      <td>0.443812</td>\n",
       "      <td>0.227040</td>\n",
       "      <td>-0.220140</td>\n",
       "      <td>...</td>\n",
       "      <td>0.0000</td>\n",
       "      <td>0</td>\n",
       "      <td>1.704935e+00</td>\n",
       "      <td>0.817448</td>\n",
       "      <td>0.703105</td>\n",
       "      <td>0.737408</td>\n",
       "      <td>683.312826</td>\n",
       "      <td>4.787794</td>\n",
       "      <td>0.317470</td>\n",
       "      <td>0.696932</td>\n",
       "    </tr>\n",
       "    <tr>\n",
       "      <th>4</th>\n",
       "      <td>0x1_0x00809b9263aab2856bf65be3d3bc3fcb9e19c1fb</td>\n",
       "      <td>0.293316</td>\n",
       "      <td>0.314936</td>\n",
       "      <td>0.549992</td>\n",
       "      <td>-0.395666</td>\n",
       "      <td>-0.443797</td>\n",
       "      <td>0.279635</td>\n",
       "      <td>0.081881</td>\n",
       "      <td>-0.029357</td>\n",
       "      <td>-0.226012</td>\n",
       "      <td>...</td>\n",
       "      <td>23.6625</td>\n",
       "      <td>0</td>\n",
       "      <td>1.268250e+00</td>\n",
       "      <td>0.864205</td>\n",
       "      <td>0.922345</td>\n",
       "      <td>0.904903</td>\n",
       "      <td>770.231639</td>\n",
       "      <td>4.665048</td>\n",
       "      <td>0.302250</td>\n",
       "      <td>0.854967</td>\n",
       "    </tr>\n",
       "    <tr>\n",
       "      <th>...</th>\n",
       "      <td>...</td>\n",
       "      <td>...</td>\n",
       "      <td>...</td>\n",
       "      <td>...</td>\n",
       "      <td>...</td>\n",
       "      <td>...</td>\n",
       "      <td>...</td>\n",
       "      <td>...</td>\n",
       "      <td>...</td>\n",
       "      <td>...</td>\n",
       "      <td>...</td>\n",
       "      <td>...</td>\n",
       "      <td>...</td>\n",
       "      <td>...</td>\n",
       "      <td>...</td>\n",
       "      <td>...</td>\n",
       "      <td>...</td>\n",
       "      <td>...</td>\n",
       "      <td>...</td>\n",
       "      <td>...</td>\n",
       "      <td>...</td>\n",
       "    </tr>\n",
       "    <tr>\n",
       "      <th>993</th>\n",
       "      <td>0x1_0xfe8260a826dc1f6e606118a2069f564d7a50ae5f</td>\n",
       "      <td>0.036140</td>\n",
       "      <td>-0.753865</td>\n",
       "      <td>0.581450</td>\n",
       "      <td>-0.490286</td>\n",
       "      <td>-0.247059</td>\n",
       "      <td>-0.468574</td>\n",
       "      <td>-0.819536</td>\n",
       "      <td>-0.003617</td>\n",
       "      <td>-0.060075</td>\n",
       "      <td>...</td>\n",
       "      <td>23.6625</td>\n",
       "      <td>0</td>\n",
       "      <td>1.557011e+00</td>\n",
       "      <td>0.833286</td>\n",
       "      <td>0.558070</td>\n",
       "      <td>0.640635</td>\n",
       "      <td>617.776666</td>\n",
       "      <td>5.261805</td>\n",
       "      <td>0.376244</td>\n",
       "      <td>0.577776</td>\n",
       "    </tr>\n",
       "    <tr>\n",
       "      <th>994</th>\n",
       "      <td>0x1_0xff4daf5b899fa6914c0ae073fd2ac06024878139</td>\n",
       "      <td>0.096975</td>\n",
       "      <td>-0.126620</td>\n",
       "      <td>0.031515</td>\n",
       "      <td>-0.113570</td>\n",
       "      <td>-0.112668</td>\n",
       "      <td>-0.131266</td>\n",
       "      <td>-0.165958</td>\n",
       "      <td>-0.043496</td>\n",
       "      <td>-0.085755</td>\n",
       "      <td>...</td>\n",
       "      <td>0.0000</td>\n",
       "      <td>0</td>\n",
       "      <td>4.048757e-01</td>\n",
       "      <td>0.956649</td>\n",
       "      <td>0.558070</td>\n",
       "      <td>0.677643</td>\n",
       "      <td>630.179520</td>\n",
       "      <td>4.655570</td>\n",
       "      <td>0.301075</td>\n",
       "      <td>0.600326</td>\n",
       "    </tr>\n",
       "    <tr>\n",
       "      <th>995</th>\n",
       "      <td>0x1_0xffc0161955b6b62027ca808e55a6d91b0f22ef15</td>\n",
       "      <td>0.141774</td>\n",
       "      <td>-0.123137</td>\n",
       "      <td>0.112203</td>\n",
       "      <td>-0.052511</td>\n",
       "      <td>-0.080813</td>\n",
       "      <td>-0.089153</td>\n",
       "      <td>-0.153964</td>\n",
       "      <td>-0.063742</td>\n",
       "      <td>-0.061535</td>\n",
       "      <td>...</td>\n",
       "      <td>0.0000</td>\n",
       "      <td>0</td>\n",
       "      <td>4.358478e-01</td>\n",
       "      <td>0.953332</td>\n",
       "      <td>0.558070</td>\n",
       "      <td>0.676649</td>\n",
       "      <td>630.273269</td>\n",
       "      <td>4.650988</td>\n",
       "      <td>0.300507</td>\n",
       "      <td>0.600497</td>\n",
       "    </tr>\n",
       "    <tr>\n",
       "      <th>996</th>\n",
       "      <td>0x1_0xffe22aa0c8de8e998e13dc8160d05475a5200942</td>\n",
       "      <td>0.197418</td>\n",
       "      <td>0.015718</td>\n",
       "      <td>-0.187545</td>\n",
       "      <td>0.113881</td>\n",
       "      <td>0.322311</td>\n",
       "      <td>0.123939</td>\n",
       "      <td>-0.216459</td>\n",
       "      <td>-0.098734</td>\n",
       "      <td>0.573837</td>\n",
       "      <td>...</td>\n",
       "      <td>0.0000</td>\n",
       "      <td>0</td>\n",
       "      <td>2.686345e-08</td>\n",
       "      <td>1.000000</td>\n",
       "      <td>0.703075</td>\n",
       "      <td>0.792152</td>\n",
       "      <td>681.936085</td>\n",
       "      <td>4.854528</td>\n",
       "      <td>0.325744</td>\n",
       "      <td>0.694429</td>\n",
       "    </tr>\n",
       "    <tr>\n",
       "      <th>997</th>\n",
       "      <td>0x1_0xffff14106945bcb267b34711c416aa3085b8865f</td>\n",
       "      <td>0.011358</td>\n",
       "      <td>-0.225734</td>\n",
       "      <td>-0.243566</td>\n",
       "      <td>0.043710</td>\n",
       "      <td>0.186491</td>\n",
       "      <td>-0.192800</td>\n",
       "      <td>-0.181950</td>\n",
       "      <td>-0.164997</td>\n",
       "      <td>0.341937</td>\n",
       "      <td>...</td>\n",
       "      <td>0.0000</td>\n",
       "      <td>0</td>\n",
       "      <td>5.650748e-01</td>\n",
       "      <td>0.939496</td>\n",
       "      <td>0.703105</td>\n",
       "      <td>0.774022</td>\n",
       "      <td>683.030500</td>\n",
       "      <td>4.801594</td>\n",
       "      <td>0.319181</td>\n",
       "      <td>0.696419</td>\n",
       "    </tr>\n",
       "  </tbody>\n",
       "</table>\n",
       "<p>998 rows × 44 columns</p>\n",
       "</div>"
      ],
      "text/plain": [
       "                                             wallet   embed_0   embed_1  \\\n",
       "0    0x1_0x0000000002a70a5a249ba633db4ee5fc9f90d611 -0.288148  0.612782   \n",
       "1    0x1_0x000000fee13a103a10d593b9ae06b3e05f2e7e1c -0.084198  0.822993   \n",
       "2    0x1_0x00000639caea2f4991b946c1f68686e4df700000 -0.896815 -0.016487   \n",
       "3    0x1_0x000076a33ef6a2027f01f73f7dbb122a8f31f61d -0.322370  0.589526   \n",
       "4    0x1_0x00809b9263aab2856bf65be3d3bc3fcb9e19c1fb  0.293316  0.314936   \n",
       "..                                              ...       ...       ...   \n",
       "993  0x1_0xfe8260a826dc1f6e606118a2069f564d7a50ae5f  0.036140 -0.753865   \n",
       "994  0x1_0xff4daf5b899fa6914c0ae073fd2ac06024878139  0.096975 -0.126620   \n",
       "995  0x1_0xffc0161955b6b62027ca808e55a6d91b0f22ef15  0.141774 -0.123137   \n",
       "996  0x1_0xffe22aa0c8de8e998e13dc8160d05475a5200942  0.197418  0.015718   \n",
       "997  0x1_0xffff14106945bcb267b34711c416aa3085b8865f  0.011358 -0.225734   \n",
       "\n",
       "      embed_2   embed_3   embed_4   embed_5   embed_6   embed_7   embed_8  \\\n",
       "0    0.272698  0.051639 -0.242926  0.021273  0.611817  0.054437 -0.320408   \n",
       "1    0.522016  0.066127 -0.207009 -0.089779  0.717208  0.263017 -0.488356   \n",
       "2   -0.265663 -0.298782 -0.608998 -0.605407  0.210828 -0.611799 -0.254522   \n",
       "3    0.097580  0.185119 -0.070400 -0.161263  0.443812  0.227040 -0.220140   \n",
       "4    0.549992 -0.395666 -0.443797  0.279635  0.081881 -0.029357 -0.226012   \n",
       "..        ...       ...       ...       ...       ...       ...       ...   \n",
       "993  0.581450 -0.490286 -0.247059 -0.468574 -0.819536 -0.003617 -0.060075   \n",
       "994  0.031515 -0.113570 -0.112668 -0.131266 -0.165958 -0.043496 -0.085755   \n",
       "995  0.112203 -0.052511 -0.080813 -0.089153 -0.153964 -0.063742 -0.061535   \n",
       "996 -0.187545  0.113881  0.322311  0.123939 -0.216459 -0.098734  0.573837   \n",
       "997 -0.243566  0.043710  0.186491 -0.192800 -0.181950 -0.164997  0.341937   \n",
       "\n",
       "     ...  avg_retweets  num_hashtags      emb_dist  emb_score  \\\n",
       "0    ...        0.0000             0  6.778320e-01   0.927423   \n",
       "1    ...        0.0000             0  1.140732e+00   0.877858   \n",
       "2    ...        0.0000             0  6.847834e-01   0.926678   \n",
       "3    ...        0.0000             0  1.704935e+00   0.817448   \n",
       "4    ...       23.6625             0  1.268250e+00   0.864205   \n",
       "..   ...           ...           ...           ...        ...   \n",
       "993  ...       23.6625             0  1.557011e+00   0.833286   \n",
       "994  ...        0.0000             0  4.048757e-01   0.956649   \n",
       "995  ...        0.0000             0  4.358478e-01   0.953332   \n",
       "996  ...        0.0000             0  2.686345e-08   1.000000   \n",
       "997  ...        0.0000             0  5.650748e-01   0.939496   \n",
       "\n",
       "     feat_score_norm  composite_raw  credit_score  dist_to_best_comm  \\\n",
       "0           0.703073       0.770378    684.806635           4.714176   \n",
       "1           0.000000       0.263358    414.720840           4.684986   \n",
       "2           0.717509       0.780260    687.198940           4.868913   \n",
       "3           0.703105       0.737408    683.312826           4.787794   \n",
       "4           0.922345       0.904903    770.231639           4.665048   \n",
       "..               ...            ...           ...                ...   \n",
       "993         0.558070       0.640635    617.776666           5.261805   \n",
       "994         0.558070       0.677643    630.179520           4.655570   \n",
       "995         0.558070       0.676649    630.273269           4.650988   \n",
       "996         0.703075       0.792152    681.936085           4.854528   \n",
       "997         0.703105       0.774022    683.030500           4.801594   \n",
       "\n",
       "     dist_norm  composite  \n",
       "0     0.308342   0.699648  \n",
       "1     0.304722   0.208583  \n",
       "2     0.327528   0.703998  \n",
       "3     0.317470   0.696932  \n",
       "4     0.302250   0.854967  \n",
       "..         ...        ...  \n",
       "993   0.376244   0.577776  \n",
       "994   0.301075   0.600326  \n",
       "995   0.300507   0.600497  \n",
       "996   0.325744   0.694429  \n",
       "997   0.319181   0.696419  \n",
       "\n",
       "[998 rows x 44 columns]"
      ]
     },
     "execution_count": 70,
     "metadata": {},
     "output_type": "execute_result"
    }
   ],
   "source": [
    "df"
   ]
  },
  {
   "cell_type": "code",
   "execution_count": 72,
   "metadata": {
    "execution": {
     "iopub.execute_input": "2025-06-14T20:56:14.711238Z",
     "iopub.status.busy": "2025-06-14T20:56:14.710960Z",
     "iopub.status.idle": "2025-06-14T20:56:18.137566Z",
     "shell.execute_reply": "2025-06-14T20:56:18.136873Z",
     "shell.execute_reply.started": "2025-06-14T20:56:14.711216Z"
    },
    "trusted": true
   },
   "outputs": [
    {
     "name": "stdout",
     "output_type": "stream",
     "text": [
      "Collecting neo4j\n",
      "  Downloading neo4j-5.28.1-py3-none-any.whl.metadata (5.9 kB)\n",
      "Requirement already satisfied: pytz in /usr/local/lib/python3.11/dist-packages (from neo4j) (2025.2)\n",
      "Downloading neo4j-5.28.1-py3-none-any.whl (312 kB)\n",
      "\u001b[2K   \u001b[90m━━━━━━━━━━━━━━━━━━━━━━━━━━━━━━━━━━━━━━━━\u001b[0m \u001b[32m312.3/312.3 kB\u001b[0m \u001b[31m8.3 MB/s\u001b[0m eta \u001b[36m0:00:00\u001b[0m:00:01\u001b[0m\n",
      "\u001b[?25hInstalling collected packages: neo4j\n",
      "Successfully installed neo4j-5.28.1\n"
     ]
    }
   ],
   "source": [
    "!pip install neo4j"
   ]
  },
  {
   "cell_type": "code",
   "execution_count": null,
   "metadata": {
    "execution": {
     "iopub.execute_input": "2025-06-14T20:56:38.046058Z",
     "iopub.status.busy": "2025-06-14T20:56:38.045748Z",
     "iopub.status.idle": "2025-06-14T20:56:40.509788Z",
     "shell.execute_reply": "2025-06-14T20:56:40.509047Z",
     "shell.execute_reply.started": "2025-06-14T20:56:38.046037Z"
    },
    "trusted": true
   },
   "outputs": [
    {
     "name": "stdout",
     "output_type": "stream",
     "text": [
      "✅ Đã ghi credit_score cho 998 ví lên Neo4j\n"
     ]
    }
   ],
   "source": [
    "from neo4j import GraphDatabase\n",
    "import pandas as pd\n",
    "\n",
    "class WalletFeatureExporter:\n",
    "    def __init__(self):\n",
    "        \n",
    "        self.driver = GraphDatabase.driver(\n",
    "            NEO4J_URI,\n",
    "            auth=(NEO4J_USERNAME, NEO4J_PASSWORD)\n",
    "        )\n",
    "\n",
    "    def close(self):\n",
    "        self.driver.close()\n",
    "\n",
    "    def write_credit_scores(self, df: pd.DataFrame):\n",
    "        \"\"\"\n",
    "        df: DataFrame có ít nhất 2 cột:\n",
    "            - 'wallet': chuỗi ID của ví\n",
    "            - 'credit_score': giá trị số\n",
    "        \"\"\"\n",
    "        # 1) Chuyển DataFrame thành list of dicts\n",
    "        records = df[['wallet', 'credit_score']].to_dict(orient='records')\n",
    "\n",
    "        # 2) Cypher dùng UNWIND để cập nhật hàng loạt\n",
    "        query = \"\"\"\n",
    "        UNWIND $rows AS row\n",
    "        MATCH (w:Wallet {id: row.wallet})\n",
    "        SET w.credit_score = row.credit_score\n",
    "        \"\"\"\n",
    "\n",
    "        with self.driver.session() as session:\n",
    "            session.run(query, rows=records)\n",
    "            print(f\"✅ Đã ghi credit_score cho {len(records)} ví lên Neo4j\")\n",
    "\n",
    "\n",
    "\n",
    "exporter = WalletFeatureExporter()\n",
    "try:\n",
    "        exporter.write_credit_scores(df)\n",
    "finally:\n",
    "        exporter.close()\n"
   ]
  },
  {
   "cell_type": "code",
   "execution_count": null,
   "metadata": {
    "trusted": true
   },
   "outputs": [],
   "source": []
  }
 ],
 "metadata": {
  "kaggle": {
   "accelerator": "gpu",
   "dataSources": [
    {
     "datasetId": 7658809,
     "sourceId": 12167646,
     "sourceType": "datasetVersion"
    }
   ],
   "dockerImageVersionId": 31040,
   "isGpuEnabled": true,
   "isInternetEnabled": true,
   "language": "python",
   "sourceType": "notebook"
  },
  "kernelspec": {
   "display_name": "Python 3",
   "language": "python",
   "name": "python3"
  },
  "language_info": {
   "codemirror_mode": {
    "name": "ipython",
    "version": 3
   },
   "file_extension": ".py",
   "mimetype": "text/x-python",
   "name": "python",
   "nbconvert_exporter": "python",
   "pygments_lexer": "ipython3",
   "version": "3.11.11"
  }
 },
 "nbformat": 4,
 "nbformat_minor": 4
}
